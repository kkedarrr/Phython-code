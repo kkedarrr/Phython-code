{
 "cells": [
  {
   "cell_type": "markdown",
   "id": "9317064d",
   "metadata": {},
   "source": [
    "# Write a program for print 'Hello' ten times."
   ]
  },
  {
   "cell_type": "code",
   "execution_count": 1,
   "id": "e5ec56a6",
   "metadata": {},
   "outputs": [
    {
     "name": "stdout",
     "output_type": "stream",
     "text": [
      "Hello\n",
      "Hello\n",
      "Hello\n",
      "Hello\n",
      "Hello\n",
      "Hello\n",
      "Hello\n",
      "Hello\n",
      "Hello\n",
      "Hello\n"
     ]
    }
   ],
   "source": [
    "i=1\n",
    "while i<=10:\n",
    "    print('Hello')\n",
    "    i=i+1"
   ]
  },
  {
   "cell_type": "markdown",
   "id": "f855a5ba",
   "metadata": {},
   "source": [
    "#  Write a programe for print number from 1 to 10."
   ]
  },
  {
   "cell_type": "code",
   "execution_count": 2,
   "id": "ac1172fe",
   "metadata": {},
   "outputs": [
    {
     "name": "stdout",
     "output_type": "stream",
     "text": [
      "1\n",
      "2\n",
      "3\n",
      "4\n",
      "5\n",
      "6\n",
      "7\n",
      "8\n",
      "9\n",
      "10\n"
     ]
    }
   ],
   "source": [
    "i=1\n",
    "while i<=10:\n",
    "    print(i)\n",
    "    i=i+1"
   ]
  },
  {
   "cell_type": "markdown",
   "id": "3ca66423",
   "metadata": {},
   "source": [
    "#  Write a program for print sum of first ten number."
   ]
  },
  {
   "cell_type": "code",
   "execution_count": 3,
   "id": "55c86d3f",
   "metadata": {},
   "outputs": [
    {
     "name": "stdout",
     "output_type": "stream",
     "text": [
      "55\n"
     ]
    }
   ],
   "source": [
    "i=1\n",
    "add=0\n",
    "while i<=10:\n",
    "    add=add+i\n",
    "    i=i+1\n",
    "print(add)"
   ]
  },
  {
   "cell_type": "markdown",
   "id": "ebcc1e1a",
   "metadata": {},
   "source": [
    "# Write a program for print n number entered by user."
   ]
  },
  {
   "cell_type": "code",
   "execution_count": 4,
   "id": "6b4e64b8",
   "metadata": {},
   "outputs": [
    {
     "name": "stdout",
     "output_type": "stream",
     "text": [
      "Enter the number 5\n",
      "1\n",
      "2\n",
      "3\n",
      "4\n",
      "5\n"
     ]
    }
   ],
   "source": [
    "i=1\n",
    "n=int(input(\"Enter the number \"))\n",
    "while i<=n:\n",
    "    print(i)\n",
    "    i=i+1"
   ]
  },
  {
   "cell_type": "markdown",
   "id": "ebd9d025",
   "metadata": {},
   "source": [
    "#  Write a program for print sum of n numbers."
   ]
  },
  {
   "cell_type": "code",
   "execution_count": 5,
   "id": "feaeee3e",
   "metadata": {},
   "outputs": [
    {
     "name": "stdout",
     "output_type": "stream",
     "text": [
      "Enter the number 5\n",
      "1\n",
      "3\n",
      "6\n",
      "10\n",
      "15\n"
     ]
    }
   ],
   "source": [
    "i=1\n",
    "n=int(input(\"Enter the number \"))\n",
    "add=0\n",
    "while i<=n:\n",
    "    add=add+i\n",
    "    print(add)\n",
    "    i=i+1"
   ]
  },
  {
   "cell_type": "markdown",
   "id": "451019f5",
   "metadata": {},
   "source": [
    "# Write a program for print table of a numbers."
   ]
  },
  {
   "cell_type": "code",
   "execution_count": 6,
   "id": "7e689fc2",
   "metadata": {},
   "outputs": [
    {
     "name": "stdout",
     "output_type": "stream",
     "text": [
      "Enter the number5\n",
      "5\n",
      "10\n",
      "15\n",
      "20\n",
      "25\n",
      "30\n",
      "35\n",
      "40\n",
      "45\n",
      "50\n"
     ]
    }
   ],
   "source": [
    "n=int(input(\"Enter the number\"))\n",
    "i=1\n",
    "while i<=10:\n",
    "    t=n*i\n",
    "    print(t)\n",
    "    i=i+1"
   ]
  },
  {
   "cell_type": "markdown",
   "id": "3a020bfb",
   "metadata": {},
   "source": [
    "# Write a program to calculate the Factorial of a number."
   ]
  },
  {
   "cell_type": "code",
   "execution_count": 8,
   "id": "7ada74c1",
   "metadata": {},
   "outputs": [
    {
     "name": "stdout",
     "output_type": "stream",
     "text": [
      "Enter the number9\n",
      "362880\n"
     ]
    }
   ],
   "source": [
    "n=int(input('Enter the number'))\n",
    "f=1\n",
    "while n>0:\n",
    "    f=f*n\n",
    "    n=n-1\n",
    "print(f)"
   ]
  },
  {
   "cell_type": "markdown",
   "id": "75ceb547",
   "metadata": {},
   "source": [
    "#  Write a program for print even number from 1 to 100"
   ]
  },
  {
   "cell_type": "code",
   "execution_count": 2,
   "id": "e2ab28f9",
   "metadata": {},
   "outputs": [
    {
     "name": "stdout",
     "output_type": "stream",
     "text": [
      "2\n",
      "4\n",
      "6\n",
      "8\n",
      "10\n",
      "12\n",
      "14\n",
      "16\n",
      "18\n",
      "20\n",
      "22\n",
      "24\n",
      "26\n",
      "28\n",
      "30\n",
      "32\n",
      "34\n",
      "36\n",
      "38\n",
      "40\n",
      "42\n",
      "44\n",
      "46\n",
      "48\n",
      "50\n",
      "52\n",
      "54\n",
      "56\n",
      "58\n",
      "60\n",
      "62\n",
      "64\n",
      "66\n",
      "68\n",
      "70\n",
      "72\n",
      "74\n",
      "76\n",
      "78\n",
      "80\n",
      "82\n",
      "84\n",
      "86\n",
      "88\n",
      "90\n",
      "92\n",
      "94\n",
      "96\n",
      "98\n",
      "100\n"
     ]
    }
   ],
   "source": [
    "i = 1\n",
    "while i <= 100:\n",
    "    if i % 2 == 0:\n",
    "        print(i)\n",
    "    i = i + 1"
   ]
  },
  {
   "cell_type": "markdown",
   "id": "7f3a90e4",
   "metadata": {},
   "source": [
    "# Write a program for print odd number from 1 to 100"
   ]
  },
  {
   "cell_type": "code",
   "execution_count": 3,
   "id": "33ad5cac",
   "metadata": {},
   "outputs": [
    {
     "name": "stdout",
     "output_type": "stream",
     "text": [
      "1\n",
      "3\n",
      "5\n",
      "7\n",
      "9\n",
      "11\n",
      "13\n",
      "15\n",
      "17\n",
      "19\n",
      "21\n",
      "23\n",
      "25\n",
      "27\n",
      "29\n",
      "31\n",
      "33\n",
      "35\n",
      "37\n",
      "39\n",
      "41\n",
      "43\n",
      "45\n",
      "47\n",
      "49\n",
      "51\n",
      "53\n",
      "55\n",
      "57\n",
      "59\n",
      "61\n",
      "63\n",
      "65\n",
      "67\n",
      "69\n",
      "71\n",
      "73\n",
      "75\n",
      "77\n",
      "79\n",
      "81\n",
      "83\n",
      "85\n",
      "87\n",
      "89\n",
      "91\n",
      "93\n",
      "95\n",
      "97\n",
      "99\n"
     ]
    }
   ],
   "source": [
    "i = 1\n",
    "while i <= 100:\n",
    "    if i % 2 != 0:\n",
    "        print(i)\n",
    "    i = i + 1"
   ]
  },
  {
   "cell_type": "markdown",
   "id": "38869e85",
   "metadata": {},
   "source": [
    "#  write a program to check whether a given number is palindrome or not."
   ]
  },
  {
   "cell_type": "code",
   "execution_count": 11,
   "id": "c9f866e1",
   "metadata": {},
   "outputs": [
    {
     "name": "stdout",
     "output_type": "stream",
     "text": [
      "Enter a number123\n",
      "The number is not Palindrome\n"
     ]
    }
   ],
   "source": [
    "n=int(input(\"Enter a number\"))\n",
    "t=n\n",
    "r=0\n",
    "while n>0:\n",
    "    d=n%10\n",
    "    r=r*10+d\n",
    "    n=n//10\n",
    "if t==r:\n",
    "    print('The number is Palindrome')\n",
    "else:\n",
    "    print('The number is not Palindrome')"
   ]
  },
  {
   "cell_type": "markdown",
   "id": "c5bb20d2",
   "metadata": {},
   "source": [
    "#  write a program to find factor of a number."
   ]
  },
  {
   "cell_type": "code",
   "execution_count": 4,
   "id": "60e18705",
   "metadata": {},
   "outputs": [
    {
     "name": "stdout",
     "output_type": "stream",
     "text": [
      "enter any number:9\n",
      "1\n",
      "3\n",
      "9\n",
      "total no.of factors = 3\n"
     ]
    }
   ],
   "source": [
    "n = int(input('enter any number:'))\n",
    "i = 1\n",
    "count = 0\n",
    "for i in range(1,n+1):\n",
    "    if n%i==0:\n",
    "        print(i)\n",
    "        i = i+1\n",
    "        count = count+1\n",
    "print(\"total no.of factors =\", count)"
   ]
  },
  {
   "cell_type": "markdown",
   "id": "4f8a49e4",
   "metadata": {},
   "source": [
    "#  write a program to print the reverse of a number."
   ]
  },
  {
   "cell_type": "code",
   "execution_count": 13,
   "id": "cc747540",
   "metadata": {},
   "outputs": [
    {
     "name": "stdout",
     "output_type": "stream",
     "text": [
      "enter any number:123\n",
      "321\n"
     ]
    }
   ],
   "source": [
    "n = int(input('enter any number:'))\n",
    "i = 1\n",
    "rev = 0\n",
    "for i in range(n):\n",
    "    rem = n%10\n",
    "    rev = (rev*10)+rem\n",
    "    n = n//10\n",
    "    if n==0:\n",
    "        break\n",
    "print(rev)"
   ]
  },
  {
   "cell_type": "markdown",
   "id": "1050b226",
   "metadata": {},
   "source": [
    "#  write a program to print the sum of reverse of a number."
   ]
  },
  {
   "cell_type": "code",
   "execution_count": 1,
   "id": "b3a0061c",
   "metadata": {},
   "outputs": [
    {
     "name": "stdout",
     "output_type": "stream",
     "text": [
      "enter any number:123\n",
      "sum of reverse of number = 6\n"
     ]
    }
   ],
   "source": [
    "n = int(input('enter any number:'))\n",
    "i = 1\n",
    "sum = 0\n",
    "for i in range(n):\n",
    "    rem = n%10\n",
    "    sum = sum + rem\n",
    "    n = n//10  \n",
    "print(\"sum of reverse of number =\", sum)"
   ]
  },
  {
   "cell_type": "markdown",
   "id": "141e35e0",
   "metadata": {},
   "source": [
    "#  write a program to check whether a given number is prime or not ."
   ]
  },
  {
   "cell_type": "code",
   "execution_count": 2,
   "id": "90671376",
   "metadata": {},
   "outputs": [
    {
     "name": "stdout",
     "output_type": "stream",
     "text": [
      "enter any number:19\n",
      "19 is prime number\n"
     ]
    }
   ],
   "source": [
    "n = int(input('enter any number:'))\n",
    "i = 1\n",
    "count = 0\n",
    "for i in range(1,n+1):\n",
    "    if n%i==0:\n",
    "        count = count+1\n",
    "    i = i+1\n",
    "if count==2:\n",
    "    print(n, \"is prime number\")\n",
    "else:\n",
    "    print(n, \"is not a prime number\")\n"
   ]
  },
  {
   "cell_type": "markdown",
   "id": "1de2bba5",
   "metadata": {},
   "source": [
    "#  write a program to print prime no between 1 to 100."
   ]
  },
  {
   "cell_type": "code",
   "execution_count": 3,
   "id": "ca0a4a06",
   "metadata": {},
   "outputs": [
    {
     "name": "stdout",
     "output_type": "stream",
     "text": [
      "2\n",
      "3\n",
      "5\n",
      "7\n",
      "11\n",
      "13\n",
      "17\n",
      "19\n",
      "23\n",
      "29\n",
      "31\n",
      "37\n",
      "41\n",
      "43\n",
      "47\n",
      "53\n",
      "59\n",
      "61\n",
      "67\n",
      "71\n",
      "73\n",
      "79\n",
      "83\n",
      "89\n",
      "97\n"
     ]
    }
   ],
   "source": [
    "for n in range(1,101):\n",
    "    count = 0\n",
    "    for i in range(2, (n//2+1)):\n",
    "        if n%i==0:\n",
    "            count = count + 1\n",
    "            break\n",
    "    if (count==0 and n>1):\n",
    "        print(n)\n",
    "        "
   ]
  },
  {
   "cell_type": "markdown",
   "id": "e4820f0b",
   "metadata": {},
   "source": [
    "# write a program to print no in reverse order entered by the user."
   ]
  },
  {
   "cell_type": "code",
   "execution_count": 4,
   "id": "20ec50de",
   "metadata": {},
   "outputs": [
    {
     "name": "stdout",
     "output_type": "stream",
     "text": [
      "enter any number:9\n",
      "9\n",
      "8\n",
      "7\n",
      "6\n",
      "5\n",
      "4\n",
      "3\n",
      "2\n",
      "1\n"
     ]
    }
   ],
   "source": [
    "n = int(input('enter any number:'))\n",
    "while n>0:\n",
    "    print(n)\n",
    "    n-=1"
   ]
  },
  {
   "cell_type": "markdown",
   "id": "acc16300",
   "metadata": {},
   "source": [
    "# write a program to print the cube of all no from 1 to a given no."
   ]
  },
  {
   "cell_type": "code",
   "execution_count": 5,
   "id": "2840487f",
   "metadata": {},
   "outputs": [
    {
     "name": "stdout",
     "output_type": "stream",
     "text": [
      "Enter a number 6\n",
      "Cube is  216\n"
     ]
    }
   ],
   "source": [
    "n = int(input(\"Enter a number \"))\n",
    "for i in range(n):\n",
    "    i=i+1\n",
    "print(\"Cube is \", i*i*i)"
   ]
  },
  {
   "cell_type": "markdown",
   "id": "bfa218f2",
   "metadata": {},
   "source": [
    "#  write a program to count the total no of digits in a no."
   ]
  },
  {
   "cell_type": "code",
   "execution_count": 5,
   "id": "46b5c53a",
   "metadata": {},
   "outputs": [
    {
     "name": "stdout",
     "output_type": "stream",
     "text": [
      "enter any number:10\n",
      "no.of digits in a number = 2\n"
     ]
    }
   ],
   "source": [
    "n = int(input('enter any number:'))\n",
    "i = 1\n",
    "count = 0\n",
    "for i in range(n):\n",
    "    rem = n%10\n",
    "    n = n//10\n",
    "    count = count + 1 \n",
    "    if n==0:\n",
    "        break\n",
    "print(\"no.of digits in a number =\", count)"
   ]
  },
  {
   "cell_type": "markdown",
   "id": "8acd9185",
   "metadata": {},
   "source": [
    "#  write a program to print fibonaccii series."
   ]
  },
  {
   "cell_type": "code",
   "execution_count": 7,
   "id": "b0b50612",
   "metadata": {},
   "outputs": [
    {
     "name": "stdout",
     "output_type": "stream",
     "text": [
      "enter no.of terms want:5\n",
      "0,1,1,2,3,"
     ]
    }
   ],
   "source": [
    "t1 = 0\n",
    "t2 = 1\n",
    "n = int(input('enter no.of terms want:'))\n",
    "nxt_trm = t1 + t2\n",
    "print(t1, end = ',')\n",
    "print(t2, end = ',')\n",
    "for i in range(3,n+1):\n",
    "    print(nxt_trm, end = ',')\n",
    "    t1 = t2\n",
    "    t2 = nxt_trm\n",
    "    nxt_trm = t1 + t2"
   ]
  },
  {
   "cell_type": "markdown",
   "id": "fa80fcd8",
   "metadata": {},
   "source": [
    " #  write a program to check whether a given no is amstrong no or not. "
   ]
  },
  {
   "cell_type": "code",
   "execution_count": 8,
   "id": "bb152818",
   "metadata": {},
   "outputs": [
    {
     "name": "stdout",
     "output_type": "stream",
     "text": [
      "Enter the number:153\n",
      "153 is an Armstrong number\n"
     ]
    }
   ],
   "source": [
    "num=int(input(\"Enter the number:\"))\n",
    "sum=0\n",
    "temp=num\n",
    "while temp>0:\n",
    "    digit=temp%10\n",
    "    sum+=digit**3\n",
    "    temp//=10\n",
    "if num==sum:\n",
    "    print(num,\"is an Armstrong number\")\n",
    "else:\n",
    "    print(num,\"is not an Armstrong number\")"
   ]
  },
  {
   "cell_type": "markdown",
   "id": "7fa63018",
   "metadata": {},
   "source": [
    "#  write a program to check whether a given no is strong no or not."
   ]
  },
  {
   "cell_type": "code",
   "execution_count": 9,
   "id": "6ed16a3f",
   "metadata": {},
   "outputs": [
    {
     "name": "stdout",
     "output_type": "stream",
     "text": [
      "Enter a number:8\n",
      "The number is not a strong number\n"
     ]
    }
   ],
   "source": [
    "sum1=0\n",
    "num=int(input(\"Enter a number:\"))\n",
    "temp=num\n",
    "while(num):\n",
    "    i=1\n",
    "    f=1\n",
    "    r=num%10\n",
    "    while(i<=r):\n",
    "        f=f*i\n",
    "        i=i+1\n",
    "    sum1=sum1+f\n",
    "    num=num//10\n",
    "if(sum1==temp):\n",
    "    print(\"The number is a strong number\")\n",
    "else:\n",
    "    print(\"The number is not a strong number\")"
   ]
  },
  {
   "cell_type": "markdown",
   "id": "cee21439",
   "metadata": {},
   "source": [
    "#  write a program to check whether a given no is perfect no or not."
   ]
  },
  {
   "cell_type": "code",
   "execution_count": 10,
   "id": "36601405",
   "metadata": {},
   "outputs": [
    {
     "name": "stdout",
     "output_type": "stream",
     "text": [
      "Enter any number: 4\n",
      "The number is not a Perfect number!\n"
     ]
    }
   ],
   "source": [
    "n = int(input(\"Enter any number: \"))\n",
    "sum = 0\n",
    "for i in range(1, n):\n",
    "    if(n % i == 0):\n",
    "        sum1 = sum1 + i\n",
    "if sum == n:\n",
    "    print(\"The number is a Perfect number!\")\n",
    "else:\n",
    "    print(\"The number is not a Perfect number!\")"
   ]
  },
  {
   "cell_type": "code",
   "execution_count": null,
   "id": "f4a7ca45",
   "metadata": {},
   "outputs": [],
   "source": []
  }
 ],
 "metadata": {
  "kernelspec": {
   "display_name": "Python 3 (ipykernel)",
   "language": "python",
   "name": "python3"
  },
  "language_info": {
   "codemirror_mode": {
    "name": "ipython",
    "version": 3
   },
   "file_extension": ".py",
   "mimetype": "text/x-python",
   "name": "python",
   "nbconvert_exporter": "python",
   "pygments_lexer": "ipython3",
   "version": "3.9.12"
  }
 },
 "nbformat": 4,
 "nbformat_minor": 5
}
