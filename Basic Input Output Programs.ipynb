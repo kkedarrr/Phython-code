{
 "cells": [
  {
   "cell_type": "markdown",
   "id": "06463fca",
   "metadata": {},
   "source": [
    "### 1. Write a program to introduce yourself\n"
   ]
  },
  {
   "cell_type": "code",
   "execution_count": 1,
   "id": "4e807d4e",
   "metadata": {},
   "outputs": [
    {
     "name": "stdout",
     "output_type": "stream",
     "text": [
      "Hello,\n",
      " My name is Kedar Ravindra Kalokhe \n",
      " i'm from Satara,Maharashtra \n",
      " i have studied BSC(Comp Sci), and currently Studing Data Analytics at Edubridge\n"
     ]
    }
   ],
   "source": [
    "\n",
    "print('Hello,\\n My name is Kedar Ravindra Kalokhe \\n i\\'m from Satara,Maharashtra \\n i have studied BSC(Comp Sci), and currently Studing Data Analytics at Edubridge')"
   ]
  },
  {
   "cell_type": "markdown",
   "id": "fcfa4fd3",
   "metadata": {},
   "source": [
    "### 2.Write a program to perform the following operations:\n",
    "-   Addition\n",
    "-   Subtraction\n",
    "-   Multiplication\n",
    "-   Division\n",
    "-   Modulus\n",
    "-   Exponent"
   ]
  },
  {
   "cell_type": "code",
   "execution_count": 2,
   "id": "fe27c704",
   "metadata": {},
   "outputs": [
    {
     "name": "stdout",
     "output_type": "stream",
     "text": [
      "enter the 1 num11\n",
      "enter the 2 num22\n",
      "Sum of two number is 33\n",
      "Substraction of two number is -11\n",
      "Division of two number is 0.5\n",
      "Modulus of two number is 11\n",
      "Multiplication of two number is 81402749386839761113321\n"
     ]
    }
   ],
   "source": [
    "\n",
    "x=int(input('enter the 1 num'))\n",
    "y=int(input('enter the 2 num'))\n",
    "\n",
    "add=x+y\n",
    "sub=x-y\n",
    "div=x/y\n",
    "modulus=x%y\n",
    "exp=x**y\n",
    "print('Sum of two number is',add)\n",
    "print('Substraction of two number is',sub)\n",
    "print('Division of two number is',div)\n",
    "print('Modulus of two number is',modulus)\n",
    "print('Multiplication of two number is',exp)"
   ]
  },
  {
   "cell_type": "markdown",
   "id": "60a11a43",
   "metadata": {},
   "source": [
    "### Write a program to swap two numbers."
   ]
  },
  {
   "cell_type": "code",
   "execution_count": 3,
   "id": "d47a3078",
   "metadata": {},
   "outputs": [
    {
     "name": "stdout",
     "output_type": "stream",
     "text": [
      "Enter the first num11\n",
      "Enter the Second num22\n",
      "22\n",
      "11\n"
     ]
    }
   ],
   "source": [
    "x=int(input('Enter the first num'))\n",
    "y=int(input('Enter the Second num'))\n",
    "z=x\n",
    "x=y\n",
    "y=z\n",
    "print(x)\n",
    "print(y)"
   ]
  },
  {
   "cell_type": "markdown",
   "id": "0aa2297d",
   "metadata": {},
   "source": [
    "### Write a program to swap two numbers without using third variable."
   ]
  },
  {
   "cell_type": "code",
   "execution_count": 4,
   "id": "3764cc98",
   "metadata": {},
   "outputs": [
    {
     "name": "stdout",
     "output_type": "stream",
     "text": [
      "Enter the first num11\n",
      "Enter the Second num22\n",
      "before swapping 11 22\n",
      "after swapping 22 11\n"
     ]
    }
   ],
   "source": [
    "x=int(input('Enter the first num'))\n",
    "y=int(input('Enter the Second num'))\n",
    "print('before swapping',x,y)\n",
    "x=x+y\n",
    "y=x-y\n",
    "x=x-y\n",
    "print('after swapping',x,y)"
   ]
  },
  {
   "cell_type": "markdown",
   "id": "7f5628b2",
   "metadata": {},
   "source": [
    "### Calculate simple Interest "
   ]
  },
  {
   "cell_type": "code",
   "execution_count": 5,
   "id": "ab0d5b84",
   "metadata": {},
   "outputs": [
    {
     "name": "stdout",
     "output_type": "stream",
     "text": [
      "enter the principle 11\n",
      "enter the Rate of interest 22\n",
      "enter the Time(in years) 33\n",
      "The simple Interest is  79.86\n"
     ]
    }
   ],
   "source": [
    "P=int(input('enter the principle '))\n",
    "R=int(input('enter the Rate of interest '))\n",
    "T=int(input('enter the Time(in years) '))\n",
    "si=((P * R * T)/100)\n",
    "print('The simple Interest is ',si)"
   ]
  },
  {
   "cell_type": "markdown",
   "id": "d14d3f0a",
   "metadata": {},
   "source": [
    "### Average of 5 numbers "
   ]
  },
  {
   "cell_type": "code",
   "execution_count": 6,
   "id": "a305d0c5",
   "metadata": {},
   "outputs": [
    {
     "name": "stdout",
     "output_type": "stream",
     "text": [
      "enter the first num 11\n",
      "enter the enter the second num 22\n",
      "enter the Third num 33\n",
      "enter the fourth num 44\n",
      "enter the fifth num 55\n",
      "33.0\n"
     ]
    }
   ],
   "source": [
    "first_num=int(input('enter the first num '))\n",
    "second_num=int(input('enter the enter the second num '))\n",
    "Third_num=int(input('enter the Third num '))\n",
    "fourth_num=int(input('enter the fourth num '))\n",
    "fivth_num=int(input('enter the fifth num '))\n",
    "avg=(first_num+second_num+Third_num+fourth_num+fivth_num)/5\n",
    "print(avg)"
   ]
  },
  {
   "cell_type": "markdown",
   "id": "a62ff0d1",
   "metadata": {},
   "source": [
    "### Discriminant of Quadratic Equation\n"
   ]
  },
  {
   "cell_type": "code",
   "execution_count": 1,
   "id": "05688c51",
   "metadata": {},
   "outputs": [
    {
     "name": "stdout",
     "output_type": "stream",
     "text": [
      "enter the a 11\n",
      "enter the b 77\n",
      "enter the c 44\n",
      "3993\n"
     ]
    }
   ],
   "source": [
    "a=int(input('enter the a '))\n",
    "b=int(input('enter the b '))\n",
    "c=int(input('enter the c '))\n",
    "z=(b**2)-(4*a*c)\n",
    "print(z)"
   ]
  },
  {
   "cell_type": "markdown",
   "id": "4f8ebc25",
   "metadata": {},
   "source": [
    "### Calculate areas of following shapes:\n",
    "    -Rectangle\n",
    "    -Square\n",
    "    -Triangle\n",
    "    -circle"
   ]
  },
  {
   "cell_type": "code",
   "execution_count": 5,
   "id": "72258e31",
   "metadata": {},
   "outputs": [
    {
     "name": "stdout",
     "output_type": "stream",
     "text": [
      "Enter anyone to calculate areas of following \n",
      "1-Rectangle\n",
      "2-Square\n",
      "3-Triangle\n",
      "4-Circle3\n",
      "enter the breadth11\n",
      "enter the height22\n",
      "Area of Triangle is 121.0\n"
     ]
    }
   ],
   "source": [
    "a=int(input('Enter anyone to calculate areas of following \\n1-Rectangle\\n2-Square\\n3-Triangle\\n4-Circle'))\n",
    "if a==1:\n",
    "    w=int(input('enter the width'))\n",
    "    h=int(input('enter the height'))\n",
    "    area=w*h\n",
    "    print('Area of Rectangle is',area)\n",
    "    \n",
    "if a==2:\n",
    "\n",
    "    side=int(input('enter the side'))\n",
    "    Area=side*side\n",
    "    print('Area of Square is',Area)\n",
    "\n",
    "if a==3:\n",
    "    \n",
    "    b=int(input('enter the breadth'))\n",
    "    h=int(input('enter the height'))\n",
    "    a=1/2*b*h\n",
    "    print('Area of Triangle is',a)\n",
    "    \n",
    "if a==4:\n",
    "    r=int(input('enter the radius'))\n",
    "    pi=3.14\n",
    "    a=pi*(r)**2\n",
    "    print('Area of Circle is',a)"
   ]
  },
  {
   "cell_type": "markdown",
   "id": "acf11f48",
   "metadata": {},
   "source": [
    "### write a program to calculate net salary where Basic salary is enter by user and  5% DA , 7% HRA , 3% PF."
   ]
  },
  {
   "cell_type": "code",
   "execution_count": 8,
   "id": "8b3adde7",
   "metadata": {},
   "outputs": [
    {
     "name": "stdout",
     "output_type": "stream",
     "text": [
      "enter the basic salary 50000\n",
      "Net salary is 54500.0\n"
     ]
    }
   ],
   "source": [
    "basic_salary=int(input(\"enter the basic salary \"))\n",
    "hra=basic_salary*0.07\n",
    "da=basic_salary*0.05\n",
    "pf=basic_salary*0.03\n",
    "net_salary=(basic_salary+hra+da)-pf\n",
    "print('Net salary is',net_salary)"
   ]
  },
  {
   "cell_type": "markdown",
   "id": "90aa7e01",
   "metadata": {},
   "source": [
    "### Calculate power of number"
   ]
  },
  {
   "cell_type": "code",
   "execution_count": 11,
   "id": "4a089393",
   "metadata": {},
   "outputs": [
    {
     "name": "stdout",
     "output_type": "stream",
     "text": [
      "enter the number 2\n",
      "enter the power 6\n",
      "2 by the power of 6 is 64\n"
     ]
    }
   ],
   "source": [
    "e=int(input('enter the number '))\n",
    "x=int(input('enter the power '))\n",
    "z=e**x\n",
    "print(e,'by the power of',x,'is',z)\n"
   ]
  },
  {
   "cell_type": "markdown",
   "id": "5cd41e1a",
   "metadata": {},
   "source": [
    "### Check the version of python using"
   ]
  },
  {
   "cell_type": "code",
   "execution_count": 12,
   "id": "b8472c8d",
   "metadata": {},
   "outputs": [
    {
     "name": "stdout",
     "output_type": "stream",
     "text": [
      "3.9.12\n"
     ]
    }
   ],
   "source": [
    "from platform import python_version\n",
    "print(python_version())"
   ]
  }
 ],
 "metadata": {
  "kernelspec": {
   "display_name": "Python 3 (ipykernel)",
   "language": "python",
   "name": "python3"
  },
  "language_info": {
   "codemirror_mode": {
    "name": "ipython",
    "version": 3
   },
   "file_extension": ".py",
   "mimetype": "text/x-python",
   "name": "python",
   "nbconvert_exporter": "python",
   "pygments_lexer": "ipython3",
   "version": "3.9.12"
  }
 },
 "nbformat": 4,
 "nbformat_minor": 5
}
