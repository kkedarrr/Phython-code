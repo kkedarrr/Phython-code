{
 "cells": [
  {
   "cell_type": "code",
   "execution_count": 1,
   "id": "b76b85c4",
   "metadata": {},
   "outputs": [
    {
     "name": "stdout",
     "output_type": "stream",
     "text": [
      "yourself introduction\n"
     ]
    }
   ],
   "source": [
    "#print yourself introduction\n",
    "print('yourself introduction')"
   ]
  },
  {
   "cell_type": "code",
   "execution_count": 5,
   "id": "1e472029",
   "metadata": {},
   "outputs": [
    {
     "name": "stdout",
     "output_type": "stream",
     "text": [
      "21\n",
      "-1\n",
      "0.9090909090909091\n",
      "10\n",
      "100000000000\n"
     ]
    }
   ],
   "source": [
    "#basic Addition,sub,mul,Div,Modulus,exponent\n",
    "x=10\n",
    "y=11\n",
    "#Addition\n",
    "z=x+y\n",
    "print(z)\n",
    "#Subtration\n",
    "a=x-y\n",
    "print(a)\n",
    "#Divsion\n",
    "q=x/y\n",
    "print(q)\n",
    "#Modulus\n",
    "w=x%y\n",
    "print(w)\n",
    "#Exponent\n",
    "e=x**y\n",
    "print(e)"
   ]
  },
  {
   "cell_type": "code",
   "execution_count": 8,
   "id": "63c0da9f",
   "metadata": {},
   "outputs": [
    {
     "name": "stdout",
     "output_type": "stream",
     "text": [
      "11\n",
      "22\n",
      "22\n",
      "11\n"
     ]
    }
   ],
   "source": [
    "#swapping numbers\n",
    "x=int(input())\n",
    "y=int(input())\n",
    "z=x\n",
    "x=y\n",
    "y=z\n",
    "print(x)\n",
    "print(y)"
   ]
  },
  {
   "cell_type": "code",
   "execution_count": 12,
   "id": "6ade455e",
   "metadata": {},
   "outputs": [
    {
     "name": "stdout",
     "output_type": "stream",
     "text": [
      "11\n",
      "22\n",
      "before swapping 11 22\n",
      "after swapping 22 11\n"
     ]
    }
   ],
   "source": [
    "#swapping numbers without using third variable\n",
    "x=int(input())\n",
    "y=int(input())\n",
    "print('before swapping',x,y)\n",
    "x=x+y\n",
    "y=x-y\n",
    "x=x-y\n",
    "print('after swapping',x,y)"
   ]
  },
  {
   "cell_type": "code",
   "execution_count": 14,
   "id": "304b81b9",
   "metadata": {},
   "outputs": [
    {
     "name": "stdout",
     "output_type": "stream",
     "text": [
      "enter the p 11\n",
      "enter the R 11\n",
      "enter the T 22\n",
      "26.62\n"
     ]
    }
   ],
   "source": [
    "#simple interest\n",
    "P=int(input('enter the p '))\n",
    "R=int(input('enter the R '))\n",
    "T=int(input('enter the T '))\n",
    "si=((P * R * T)/100)\n",
    "print(si)"
   ]
  },
  {
   "cell_type": "code",
   "execution_count": 17,
   "id": "39aac2d1",
   "metadata": {},
   "outputs": [
    {
     "name": "stdout",
     "output_type": "stream",
     "text": [
      "enter the first num 11\n",
      "enter the enter the second num 22\n",
      "enter the Third num 33\n",
      "enter the fourth num 44\n",
      "enter the fifth num 55\n",
      "33.0\n"
     ]
    }
   ],
   "source": [
    "#Average  of five numbers\n",
    "p=int(input('enter the first num '))\n",
    "r=int(input('enter the enter the second num '))\n",
    "c=int(input('enter the Third num '))\n",
    "b=int(input('enter the fourth num '))\n",
    "a=int(input('enter the fifth num '))\n",
    "avg=(p+r+c+b+a)/5\n",
    "print(avg)"
   ]
  },
  {
   "cell_type": "code",
   "execution_count": 20,
   "id": "356d7bd4",
   "metadata": {},
   "outputs": [
    {
     "name": "stdout",
     "output_type": "stream",
     "text": [
      "enter the a 11\n",
      "enter the b 22\n",
      "enter the c 33\n",
      "-968\n"
     ]
    }
   ],
   "source": [
    "#Discriminant of Quadratic equation\n",
    "a=int(input('enter the a '))\n",
    "b=int(input('enter the b '))\n",
    "c=int(input('enter the c '))\n",
    "z=(b**2)-(4*a*c)\n",
    "print(z)"
   ]
  },
  {
   "cell_type": "code",
   "execution_count": 1,
   "id": "5219aac7",
   "metadata": {},
   "outputs": [
    {
     "name": "stdout",
     "output_type": "stream",
     "text": [
      "enter the side11\n",
      "121\n"
     ]
    }
   ],
   "source": [
    "#########Areas of Shapes#########################\n",
    "\n",
    "\n",
    "#Area of square\n",
    "side=int(input('enter the side'))\n",
    "Area=side*side\n",
    "print(Area)\n"
   ]
  },
  {
   "cell_type": "code",
   "execution_count": 2,
   "id": "f0dfed94",
   "metadata": {},
   "outputs": [
    {
     "name": "stdout",
     "output_type": "stream",
     "text": [
      "enter the breadth22\n",
      "enter the height11\n",
      "121.0\n"
     ]
    }
   ],
   "source": [
    "#area of triangle\n",
    "#1/2*b*h\n",
    "b=int(input('enter the breadth'))\n",
    "h=int(input('enter the height'))\n",
    "a=1/2*b*h\n",
    "print(a)\n",
    "\n",
    "\n"
   ]
  },
  {
   "cell_type": "code",
   "execution_count": 3,
   "id": "95e9fbff",
   "metadata": {},
   "outputs": [
    {
     "name": "stdout",
     "output_type": "stream",
     "text": [
      "enter the radius33\n",
      "3419.46\n"
     ]
    }
   ],
   "source": [
    "#area of circle\n",
    "#pi*(r)**2\n",
    "r=int(input('enter the radius'))\n",
    "pi=3.14\n",
    "a=pi*(r)**2\n",
    "print(a)\n",
    "\n",
    "\n"
   ]
  },
  {
   "cell_type": "code",
   "execution_count": 4,
   "id": "53dcaa7f",
   "metadata": {},
   "outputs": [
    {
     "name": "stdout",
     "output_type": "stream",
     "text": [
      "enter the width11\n",
      "enter the height222\n",
      "2442\n"
     ]
    }
   ],
   "source": [
    "#area of rectangle\n",
    "#a=w*h\n",
    "w=int(input('enter the width'))\n",
    "h=int(input('enter the height'))\n",
    "area=w*h\n",
    "print(area)"
   ]
  },
  {
   "cell_type": "code",
   "execution_count": 6,
   "id": "fbebdd35",
   "metadata": {},
   "outputs": [
    {
     "name": "stdout",
     "output_type": "stream",
     "text": [
      "enter the salary 50000\n",
      "57500.0\n"
     ]
    }
   ],
   "source": [
    "# net salary of a person\n",
    "salary=int(input(\"enter the salary \"))\n",
    "hra=salary*0.07\n",
    "da=salary*0.05\n",
    "pf=salary*0.03\n",
    "net_salary=(salary+hra+da+pf)\n",
    "print(net_salary)"
   ]
  },
  {
   "cell_type": "code",
   "execution_count": 7,
   "id": "f60858d7",
   "metadata": {},
   "outputs": [
    {
     "name": "stdout",
     "output_type": "stream",
     "text": [
      "enter the number 22\n",
      "enter the power 11\n",
      "584318301411328\n"
     ]
    }
   ],
   "source": [
    "#power of number\n",
    "e=int(input('enter the number '))\n",
    "x=int(input('enter the power '))\n",
    "z=e**x\n",
    "print(z)\n"
   ]
  },
  {
   "cell_type": "code",
   "execution_count": 8,
   "id": "d4175224",
   "metadata": {},
   "outputs": [
    {
     "name": "stdout",
     "output_type": "stream",
     "text": [
      "3.9.12\n"
     ]
    }
   ],
   "source": [
    "#python version\n",
    "from platform import python_version\n",
    "print(python_version())"
   ]
  },
  {
   "cell_type": "code",
   "execution_count": null,
   "id": "ad661377",
   "metadata": {},
   "outputs": [],
   "source": []
  }
 ],
 "metadata": {
  "kernelspec": {
   "display_name": "Python 3 (ipykernel)",
   "language": "python",
   "name": "python3"
  },
  "language_info": {
   "codemirror_mode": {
    "name": "ipython",
    "version": 3
   },
   "file_extension": ".py",
   "mimetype": "text/x-python",
   "name": "python",
   "nbconvert_exporter": "python",
   "pygments_lexer": "ipython3",
   "version": "3.9.12"
  }
 },
 "nbformat": 4,
 "nbformat_minor": 5
}
