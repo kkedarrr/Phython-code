{
 "cells": [
  {
   "cell_type": "markdown",
   "id": "8ad40835",
   "metadata": {},
   "source": [
    "### To check whether number is even or odd"
   ]
  },
  {
   "cell_type": "code",
   "execution_count": 1,
   "id": "f356be9b",
   "metadata": {},
   "outputs": [
    {
     "name": "stdout",
     "output_type": "stream",
     "text": [
      "11\n",
      "odd\n"
     ]
    }
   ],
   "source": [
    "\n",
    "x=int(input())\n",
    "if x%2==0:\n",
    "    print('even')\n",
    "else:\n",
    "    print('odd')"
   ]
  },
  {
   "cell_type": "markdown",
   "id": "bdcef9f2",
   "metadata": {},
   "source": [
    "### check whether an Aplhabet is vowel or Consonant."
   ]
  },
  {
   "cell_type": "code",
   "execution_count": 2,
   "id": "8e919a8f",
   "metadata": {},
   "outputs": [
    {
     "name": "stdout",
     "output_type": "stream",
     "text": [
      "enter the alphabet 11\n",
      "it is consolant\n"
     ]
    }
   ],
   "source": [
    "\n",
    "x=input('enter the alphabet ')\n",
    "y=['a','e','i','o','u']\n",
    "if x in y:\n",
    "    print('it is a vowel ')\n",
    "else:\n",
    "    print('it is consolant')\n",
    "    "
   ]
  },
  {
   "cell_type": "markdown",
   "id": "45b5722f",
   "metadata": {},
   "source": [
    "### Person is eligible to vote or not."
   ]
  },
  {
   "cell_type": "code",
   "execution_count": 3,
   "id": "24a9536e",
   "metadata": {},
   "outputs": [
    {
     "name": "stdout",
     "output_type": "stream",
     "text": [
      "enter the age 22\n",
      "Eligible to vote \n"
     ]
    }
   ],
   "source": [
    "\n",
    "x=int(input('enter the age '))\n",
    "if x >= 18:\n",
    "    print('Eligible to vote ')\n",
    "else:\n",
    "    print('Not Eligble to vote!!!!')"
   ]
  },
  {
   "cell_type": "markdown",
   "id": "0c11ff8a",
   "metadata": {},
   "source": [
    "### Check whether a number is positive or negetive"
   ]
  },
  {
   "cell_type": "code",
   "execution_count": 4,
   "id": "5b235beb",
   "metadata": {},
   "outputs": [
    {
     "name": "stdout",
     "output_type": "stream",
     "text": [
      "enter the number 33\n",
      "Positive \n"
     ]
    }
   ],
   "source": [
    "\n",
    "x=int(input('enter the number '))\n",
    "if x > 0:\n",
    "    print('Positive ')\n",
    "elif x < 0:\n",
    "    print('Negative ')\n",
    "elif x == 0:\n",
    "    print('zero')"
   ]
  },
  {
   "cell_type": "markdown",
   "id": "6ae96e9b",
   "metadata": {},
   "source": [
    "### Check whether given year is leap year or not."
   ]
  },
  {
   "cell_type": "code",
   "execution_count": 5,
   "id": "bca0eea3",
   "metadata": {},
   "outputs": [
    {
     "name": "stdout",
     "output_type": "stream",
     "text": [
      "44\n",
      " is a leap year\n"
     ]
    }
   ],
   "source": [
    "\n",
    "year=int(input())\n",
    "if (year % 4 ==0) and (year % 100 != 0):\n",
    "    print(\" is a leap year\")\n",
    "elif (year % 400 == 0) and (year % 100 == 0):\n",
    "    print(\" is a leap year\")\n",
    "else:\n",
    "    print(\"not a leap year\")"
   ]
  },
  {
   "cell_type": "markdown",
   "id": "4707502a",
   "metadata": {},
   "source": [
    "### Check whether triangle is equilateral,Isosceles, or Scalene."
   ]
  },
  {
   "cell_type": "code",
   "execution_count": 6,
   "id": "5556912d",
   "metadata": {},
   "outputs": [
    {
     "name": "stdout",
     "output_type": "stream",
     "text": [
      "enter first angle 66\n",
      "enter second angle 77\n",
      "enter third angle88\n",
      "scalene\n"
     ]
    }
   ],
   "source": [
    "\n",
    "a=int(input('enter first angle '))\n",
    "b=int(input('enter second angle '))\n",
    "c=int(input('enter third angle'))\n",
    "\n",
    "if a==b and b==c and c==a:\n",
    "    print(\"Equilateral\")\n",
    "elif a==b or b==c or a==c:\n",
    "    print(\"isosecelles\")\n",
    "else :\n",
    "    print(\"scalene\")"
   ]
  },
  {
   "cell_type": "markdown",
   "id": "16cd62ee",
   "metadata": {},
   "source": [
    "### Check whether after selling a product it's profit or loss."
   ]
  },
  {
   "cell_type": "code",
   "execution_count": 7,
   "id": "f9fd2876",
   "metadata": {},
   "outputs": [
    {
     "name": "stdout",
     "output_type": "stream",
     "text": [
      "enter the selling price 99\n",
      "enter the cost price 788\n",
      "loss\n",
      "-689\n"
     ]
    }
   ],
   "source": [
    "sp=int(input('enter the selling price '))\n",
    "cp=int(input('enter the cost price '))\n",
    "p=sp-cp\n",
    "if sp > cp:\n",
    "    print('profit')\n",
    "elif sp < cp:\n",
    "    print('loss')\n",
    "else:\n",
    "    print('No profit')\n",
    "print(p)\n"
   ]
  },
  {
   "cell_type": "markdown",
   "id": "7c500de3",
   "metadata": {},
   "source": [
    "### Enter two numbers and print greatest number."
   ]
  },
  {
   "cell_type": "code",
   "execution_count": 8,
   "id": "77b72e84",
   "metadata": {},
   "outputs": [
    {
     "name": "stdout",
     "output_type": "stream",
     "text": [
      "Enter 1 number77\n",
      "Enter 2 number66\n",
      "Greatest number is 77\n"
     ]
    }
   ],
   "source": [
    "x=int(input('Enter 1 number'))\n",
    "y=int(input('Enter 2 number'))\n",
    "if x<y:\n",
    "    print('Greatest number is',y)\n",
    "elif y<x:\n",
    "    print('Greatest number is',x)\n",
    "else:\n",
    "    print('not valid')"
   ]
  },
  {
   "cell_type": "markdown",
   "id": "f50577a8",
   "metadata": {},
   "source": [
    "### Enter two numbers and enter smallest number."
   ]
  },
  {
   "cell_type": "code",
   "execution_count": 9,
   "id": "a8b5fe35",
   "metadata": {},
   "outputs": [
    {
     "name": "stdout",
     "output_type": "stream",
     "text": [
      "Enter 1 number55\n",
      "Enter 2 number44\n",
      "smallest number is 44\n"
     ]
    }
   ],
   "source": [
    "x=int(input('Enter 1 number'))\n",
    "y=int(input('Enter 2 number'))\n",
    "if x<y:\n",
    "    print('smallest number is',x)\n",
    "elif y<x:\n",
    "    print('smallest number is',y)\n",
    "else:\n",
    "    print('not valid')\n"
   ]
  },
  {
   "cell_type": "markdown",
   "id": "fab6a77d",
   "metadata": {},
   "source": [
    "### Enter Three numbers and print greatest number."
   ]
  },
  {
   "cell_type": "code",
   "execution_count": 10,
   "id": "c3d58fcc",
   "metadata": {},
   "outputs": [
    {
     "name": "stdout",
     "output_type": "stream",
     "text": [
      "Enter 1 number33\n",
      "Enter 2 number2\n",
      "Enter 3 number2\n",
      "Greatest number is 33\n"
     ]
    }
   ],
   "source": [
    "x=int(input('Enter 1 number'))\n",
    "y=int(input('Enter 2 number'))\n",
    "z=int(input('Enter 3 number'))\n",
    "if y<x and z<x:\n",
    "    print('Greatest number is',x)\n",
    "\n",
    "elif x<y and z<y:\n",
    "    print('Greatest number is',y)\n",
    "\n",
    "elif x<z and y<z:\n",
    "    print('Greatest number is',z)\n",
    "    \n",
    "else:\n",
    "    print('Not valid')"
   ]
  },
  {
   "cell_type": "markdown",
   "id": "c7dd381e",
   "metadata": {},
   "source": [
    "### Enter three numbers and print greatest number."
   ]
  },
  {
   "cell_type": "code",
   "execution_count": 11,
   "id": "451de777",
   "metadata": {},
   "outputs": [
    {
     "name": "stdout",
     "output_type": "stream",
     "text": [
      "Enter 1 number1\n",
      "Enter 2 number2\n",
      "Enter 3 number3\n",
      "smallest number is 1\n"
     ]
    }
   ],
   "source": [
    "x=int(input('Enter 1 number'))\n",
    "y=int(input('Enter 2 number'))\n",
    "z=int(input('Enter 3 number'))\n",
    "if y>x and z>x:\n",
    "    print('smallest number is',x)\n",
    "\n",
    "elif x>y and z>y:\n",
    "    print('smallest number is',y)\n",
    "\n",
    "elif x>z and y>z:\n",
    "    print('smallest number is',z)\n",
    "    \n",
    "else:\n",
    "    print('Not valid')"
   ]
  },
  {
   "cell_type": "markdown",
   "id": "34a9fd77",
   "metadata": {},
   "source": [
    "### Calculate Roots of Quadratic Equation."
   ]
  },
  {
   "cell_type": "code",
   "execution_count": 12,
   "id": "d9541e98",
   "metadata": {},
   "outputs": [
    {
     "name": "stdout",
     "output_type": "stream",
     "text": [
      "enter the a 1\n",
      "enter the b 2\n",
      "enter the c 3\n",
      "-2.0\n"
     ]
    }
   ],
   "source": [
    "a=int(input('enter the a '))\n",
    "b=int(input('enter the b '))\n",
    "c=int(input('enter the c '))\n",
    "z=(b**2)-(4*a*c)/(2*a)\n",
    "print(z)"
   ]
  },
  {
   "cell_type": "markdown",
   "id": "da9532bb",
   "metadata": {},
   "source": [
    "### Enter a number between(1-7) and print respective day of week."
   ]
  },
  {
   "cell_type": "code",
   "execution_count": 13,
   "id": "05edd6c5",
   "metadata": {},
   "outputs": [
    {
     "name": "stdout",
     "output_type": "stream",
     "text": [
      "enter number between 1-7 for the name of day 1\n",
      "Sunday\n"
     ]
    }
   ],
   "source": [
    "a=int(input('enter number between 1-7 for the name of day '))\n",
    "if a==1:\n",
    "    print('Sunday')\n",
    "elif a==2:\n",
    "    print('Monday')    \n",
    "elif a==3:\n",
    "    print('Tuesday')    \n",
    "elif a==4:\n",
    "    print('Wednesday')    \n",
    "elif a==5:\n",
    "    print('Thursday')    \n",
    "elif a==6:\n",
    "    print('Friday')    \n",
    "elif a==7:\n",
    "    print('Saturday')    \n",
    "else:\n",
    "    print('Not valid')"
   ]
  },
  {
   "cell_type": "markdown",
   "id": "664816aa",
   "metadata": {},
   "source": [
    "### Enter a number between(1-12) and print respective month "
   ]
  },
  {
   "cell_type": "code",
   "execution_count": 14,
   "id": "423e13f3",
   "metadata": {},
   "outputs": [
    {
     "name": "stdout",
     "output_type": "stream",
     "text": [
      "enter number between 1-12 for the month : 3\n",
      "Mar\n"
     ]
    }
   ],
   "source": [
    "a=int(input('enter number between 1-12 for the month : '))\n",
    "if a==1:\n",
    "    print('jan')\n",
    "elif a==2:\n",
    "    print('Feb')    \n",
    "elif a==3:\n",
    "    print('Mar')    \n",
    "elif a==4:\n",
    "    print('Apr')    \n",
    "elif a==5:\n",
    "    print('May')    \n",
    "elif a==6:\n",
    "    print('Jun')    \n",
    "elif a==7:\n",
    "    print('Jul')    \n",
    "elif a==8:\n",
    "    print('Aug')    \n",
    "elif a==9:\n",
    "    print('Sep')    \n",
    "elif a==10:\n",
    "    print('Oct')    \n",
    "elif a==11:\n",
    "    print('Nov')    \n",
    "elif a==12:\n",
    "    print('Dec')    \n",
    "else:\n",
    "    print('enter valid number between 1-12')\n",
    "    "
   ]
  },
  {
   "cell_type": "markdown",
   "id": "62cc6533",
   "metadata": {},
   "source": [
    "### Enter a number between(1-4) and perform following Operations:\n",
    "    -Addition\n",
    "    -Subtraction\n",
    "    -Multiplication\n",
    "    -Division"
   ]
  },
  {
   "cell_type": "code",
   "execution_count": 15,
   "id": "bc063aa0",
   "metadata": {},
   "outputs": [
    {
     "name": "stdout",
     "output_type": "stream",
     "text": [
      "enter the first number2\n",
      "enter the second number1\n",
      "enter the operation number to operate\n",
      "1- Addition\n",
      "2- Subtration\n",
      "3- Multiplication\n",
      "4- Division3\n",
      "Multiplication of 2 and 1 is 2\n"
     ]
    }
   ],
   "source": [
    "a=int(input('enter the first number'))\n",
    "b=int(input('enter the second number'))\n",
    "op=int(input('''enter the operation number to operate\n",
    "1- Addition\n",
    "2- Subtration\n",
    "3- Multiplication\n",
    "4- Division'''))\n",
    "if op==1:\n",
    "    r=a+b\n",
    "    print('Addition of',a,'and',b,'is',r)\n",
    "elif op==2:\n",
    "    r=a-b\n",
    "    print('Subtration of',a,'and',b,'is',r)\n",
    "elif op==3:\n",
    "    r=a*b\n",
    "    print('Multiplication of',a,'and',b,'is',r)\n",
    "elif op==4:\n",
    "    r=a/b\n",
    "    print('Divison of',a,'and',b,'is',r)\n",
    "else:\n",
    "    print('enter number 1-4 for operation')"
   ]
  },
  {
   "cell_type": "markdown",
   "id": "bb8309be",
   "metadata": {},
   "source": [
    "### Convert to and from Celsius, Fahrenheit."
   ]
  },
  {
   "cell_type": "code",
   "execution_count": 16,
   "id": "b4ce9a26",
   "metadata": {},
   "outputs": [
    {
     "name": "stdout",
     "output_type": "stream",
     "text": [
      "enter 1 for Celsius to Fahrenheit conversion: \n",
      "2 for Fahrenheit to Celsius conversion 2\n",
      "Enter the temperature in Fahrenheit222\n",
      "The temerature in Celcius is 105.55555555555556\n"
     ]
    }
   ],
   "source": [
    "a=int(input('enter 1 for Celsius to Fahrenheit conversion: \\n2 for Fahrenheit to Celsius conversion '))\n",
    "if a==1:\n",
    "    x=int(input('Enter the temperature in Celsius'))\n",
    "    y=(x*1.8)+32\n",
    "    print('The temerature in Fahrenheit is',y)\n",
    "    \n",
    "if a==2:\n",
    "    x=int(input('Enter the temperature in Fahrenheit'))\n",
    "    y=((x-32)*5)/9\n",
    "    print('The temerature in Celcius is',y)"
   ]
  },
  {
   "cell_type": "markdown",
   "id": "53362c4a",
   "metadata": {},
   "source": [
    "### Check if a employee is working more than 5 years and if yes add 5% Bonus"
   ]
  },
  {
   "cell_type": "code",
   "execution_count": 17,
   "id": "febb8d2c",
   "metadata": {},
   "outputs": [
    {
     "name": "stdout",
     "output_type": "stream",
     "text": [
      "enter your salary:20000\n",
      "enter years of service:6\n",
      "yours salary(+bonus) =  21000.0\n"
     ]
    }
   ],
   "source": [
    "salary =  int(input(\"enter your salary:\"))\n",
    "service_yrs = int(input(\"enter years of service:\"))\n",
    "if service_yrs > 5:\n",
    "    print(\"yours salary(+bonus) = \",salary + (salary)*0.05)\n",
    "else:\n",
    "    print(\"You are not eligible for bonus as you have less service years.\")"
   ]
  },
  {
   "cell_type": "markdown",
   "id": "c5c7e36b",
   "metadata": {},
   "source": [
    "### Check by length and breadth whether  its Square or not"
   ]
  },
  {
   "cell_type": "code",
   "execution_count": 19,
   "id": "28f532bf",
   "metadata": {},
   "outputs": [
    {
     "name": "stdout",
     "output_type": "stream",
     "text": [
      "Enter the Length11\n",
      "Enter the Breadth11\n",
      "its a square\n"
     ]
    }
   ],
   "source": [
    "l= int(input(\"Enter the Length\"))\n",
    "b=int(input(\"Enter the Breadth\"))\n",
    "\n",
    "if   l==b:\n",
    "    print(\"its a square\")\n",
    "else:\n",
    "    print(\"its an rectangle\")"
   ]
  },
  {
   "cell_type": "markdown",
   "id": "08c7af80",
   "metadata": {},
   "source": [
    "### Enter 3 people ages and print youngest and oldest."
   ]
  },
  {
   "cell_type": "code",
   "execution_count": 20,
   "id": "d94cdc42",
   "metadata": {},
   "outputs": [
    {
     "name": "stdout",
     "output_type": "stream",
     "text": [
      "enter age1: 11\n",
      "enter age2: 22\n",
      "enter age3: 33\n",
      "33  is oldest\n",
      "11  is youngest\n"
     ]
    }
   ],
   "source": [
    "age1=int(input('enter age1: '))\n",
    "age2=int(input('enter age2: '))\n",
    "age3=int(input('enter age3: '))\n",
    "\n",
    "\n",
    "if age1>age2 and age1>age3:\n",
    "    print(age1,\" is oldest\")\n",
    "elif age2>age1 and age2>age3:\n",
    "    print(age2,\" is oldest\")\n",
    "elif age3>age1 and age3>age2:\n",
    "    print(age3,\" is oldest\")\n",
    "else:\n",
    "    print(\" NOT VALID\")\n",
    "    \n",
    "    \n",
    "if age1<age2 and age1<age3:\n",
    "    print(age1,\" is youngest\")\n",
    "elif age2<age1 and age2<age3:\n",
    "    print(age2,\" is youngest\")\n",
    "elif age3<age1 and age3<age2:\n",
    "    print(age3,\" is youngest\")\n",
    "else:\n",
    "     print(\"NOT VALID\")"
   ]
  },
  {
   "cell_type": "markdown",
   "id": "39db9cec",
   "metadata": {},
   "source": [
    "### School has grading system print grade as follows:-\n",
    "    - > 80 (A grade)\n",
    "    -60 to 80 (B grade)\n",
    "    -50 to 60 (C grade)\n",
    "    -45 to 50 (D grade)\n",
    "    -25 to 45 (E grade)\n",
    "    -< 25 (F grade)\n",
    "    "
   ]
  },
  {
   "cell_type": "code",
   "execution_count": 23,
   "id": "5f2ab1b7",
   "metadata": {},
   "outputs": [
    {
     "name": "stdout",
     "output_type": "stream",
     "text": [
      "enter the  marks99\n",
      " GRADE A\n"
     ]
    }
   ],
   "source": [
    "marks=int(input(\"enter the  marks\"))\n",
    "if marks < 25:\n",
    "    print(\"GRADE F\")\n",
    "elif 25 <= marks <=45:\n",
    "    print(\"GRADE E\")\n",
    "elif 45 <= marks <=50:\n",
    "    print(\"GRADE D\")\n",
    "elif 50 <= marks <=60:\n",
    "    print(\"GRADE C\")\n",
    "elif 60 <= marks <=80:\n",
    "    print(\"GRADE B\")\n",
    "elif  marks > 80:\n",
    "    print(\" GRADE A\")\n",
    "else :\n",
    "    print(\"NOT VAID\")"
   ]
  },
  {
   "cell_type": "code",
   "execution_count": null,
   "id": "64161c26",
   "metadata": {},
   "outputs": [],
   "source": []
  }
 ],
 "metadata": {
  "kernelspec": {
   "display_name": "Python 3 (ipykernel)",
   "language": "python",
   "name": "python3"
  },
  "language_info": {
   "codemirror_mode": {
    "name": "ipython",
    "version": 3
   },
   "file_extension": ".py",
   "mimetype": "text/x-python",
   "name": "python",
   "nbconvert_exporter": "python",
   "pygments_lexer": "ipython3",
   "version": "3.9.12"
  }
 },
 "nbformat": 4,
 "nbformat_minor": 5
}
